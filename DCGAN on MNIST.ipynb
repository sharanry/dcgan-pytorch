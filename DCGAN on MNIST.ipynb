{
 "cells": [
  {
   "cell_type": "code",
   "execution_count": 1,
   "metadata": {
    "collapsed": true
   },
   "outputs": [],
   "source": [
    "%matplotlib inline\n",
    "import matplotlib.pyplot as plt\n",
    "import numpy as np\n",
    "import seaborn as sns\n",
    "\n",
    "from torchvision import datasets, transforms\n",
    "import torchvision\n",
    "\n",
    "import torch.nn as nn\n",
    "import torch.nn.functional as F\n",
    "import torch.optim as optim\n",
    "from torch.autograd import Variable\n",
    "import torch.cuda as cuda\n",
    "import torch"
   ]
  },
  {
   "cell_type": "code",
   "execution_count": 2,
   "metadata": {
    "collapsed": true
   },
   "outputs": [],
   "source": [
    "use_gpu = cuda.is_available()"
   ]
  },
  {
   "cell_type": "markdown",
   "metadata": {},
   "source": [
    "# Learning to generate MNIST digits using a De-Convolutional Generator Discriminator model"
   ]
  },
  {
   "cell_type": "code",
   "execution_count": 3,
   "metadata": {
    "collapsed": true
   },
   "outputs": [],
   "source": [
    "class Generator(nn.Module):\n",
    "    def __init__(self, n_channels=100, reuse=False ):\n",
    "        super(Generator, self).__init__()\n",
    "        self.main = nn.Sequential(\n",
    "            #1st hidden layer\n",
    "            nn.ConvTranspose2d(in_channels=n_channels, #\"Deconvolutional\" layer \n",
    "                               out_channels=1024,\n",
    "                               kernel_size=4,\n",
    "                               stride=1,\n",
    "                               padding=0,\n",
    "                               bias=False),\n",
    "            nn.BatchNorm2d(1024, affine=True),\n",
    "            nn.LeakyReLU(negative_slope=0.2),\n",
    "            \n",
    "            #2nd hidden layer\n",
    "            nn.ConvTranspose2d(in_channels=1024,\n",
    "                               out_channels=512,\n",
    "                               kernel_size=4,\n",
    "                               stride=1,\n",
    "                               padding=2,\n",
    "                               bias=False),\n",
    "            nn.BatchNorm2d(512, affine=True),\n",
    "            nn.LeakyReLU(negative_slope=0.2),\n",
    "            \n",
    "            #3rd hidden layer\n",
    "            nn.ConvTranspose2d(in_channels=512,\n",
    "                               out_channels=256,\n",
    "                               kernel_size=4,\n",
    "                               stride=2,\n",
    "                               padding=0,\n",
    "                               bias=False),\n",
    "            nn.BatchNorm2d(256, affine=True),\n",
    "            nn.LeakyReLU(negative_slope=0.2),\n",
    "            \n",
    "            #4th hidden layer\n",
    "            nn.ConvTranspose2d(in_channels=256,\n",
    "                               out_channels=128,\n",
    "                               kernel_size=4,\n",
    "                               stride=2,\n",
    "                               padding=2,\n",
    "                               bias=False),\n",
    "            nn.BatchNorm2d(128, affine=True),\n",
    "            nn.LeakyReLU(negative_slope=0.2),\n",
    "            \n",
    "            # output layer\n",
    "            nn.ConvTranspose2d(in_channels=128,\n",
    "                               out_channels=1,\n",
    "                               kernel_size=4,\n",
    "                               stride=2,\n",
    "                               padding=1,\n",
    "                               bias=False),\n",
    "            nn.Tanh()\n",
    "        )\n",
    "    def forward(self, x):\n",
    "        output = self.main(x)\n",
    "        return output"
   ]
  },
  {
   "cell_type": "code",
   "execution_count": 4,
   "metadata": {
    "collapsed": true
   },
   "outputs": [],
   "source": [
    "class Discriminator(nn.Module):\n",
    "    def __init__(self, reuse=False, n_channels=1):\n",
    "        super(Discriminator, self).__init__()\n",
    "        self.main = nn.Sequential(\n",
    "            #1st hidden layer\n",
    "            nn.Conv2d(in_channels=n_channels,\n",
    "                      out_channels=128,\n",
    "                      kernel_size=4,\n",
    "                      stride=2,\n",
    "                      padding=1,\n",
    "                      bias=False),\n",
    "            nn.LeakyReLU(negative_slope=0.2),\n",
    "            \n",
    "            #2nd hidden layer\n",
    "            nn.Conv2d(in_channels=128,\n",
    "                      out_channels=256,\n",
    "                      kernel_size=4,\n",
    "                      stride=2,\n",
    "                      padding=2,\n",
    "                      bias=False),\n",
    "            nn.BatchNorm2d(256),\n",
    "            nn.LeakyReLU(negative_slope=0.2),\n",
    "            \n",
    "            #3rd hidden layer\n",
    "            nn.Conv2d(in_channels=256,\n",
    "                      out_channels=512,\n",
    "                      kernel_size=4,\n",
    "                      stride=2,\n",
    "                      padding=0,\n",
    "                      bias=False),\n",
    "            nn.BatchNorm2d(512),\n",
    "            nn.LeakyReLU(negative_slope=0.2),\n",
    "            \n",
    "            #4th hidden layer\n",
    "            nn.Conv2d(in_channels=512,\n",
    "                      out_channels=1024,\n",
    "                      kernel_size=4,\n",
    "                      stride=2,\n",
    "                      padding=2,\n",
    "                      bias=False),\n",
    "            nn.BatchNorm2d(1024),\n",
    "            nn.LeakyReLU(negative_slope=0.2),\n",
    "            \n",
    "            #output layer\n",
    "            nn.Conv2d(in_channels=1024,\n",
    "                      out_channels=1,\n",
    "                      kernel_size=4,\n",
    "                      stride=1,\n",
    "                      padding=1,\n",
    "                      bias=False),\n",
    "            nn.Sigmoid()\n",
    "            \n",
    "        )\n",
    "    def forward(self, y):\n",
    "        output = self.main(y)\n",
    "        return output\n",
    "        "
   ]
  },
  {
   "cell_type": "code",
   "execution_count": 40,
   "metadata": {},
   "outputs": [],
   "source": [
    "# define transform\n",
    "transform = transforms.Compose([\n",
    "    transforms.ToTensor(),\n",
    "    transforms.Normalize((0.5, 0.5, 0.5), (0.5, 0.5, 0.5))\n",
    "])\n",
    "\n",
    "trainset = torchvision.datasets.MNIST(root='./data', train=True, download=True, transform=transform, )\n",
    "trainloader = torch.utils.data.DataLoader(trainset, batch_size=100, shuffle=True, num_workers=1 )\n",
    "\n",
    "testset = torchvision.datasets.MNIST(root='./data', train=False, download=True, transform=transform)\n",
    "testloader = torch.utils.data.DataLoader(trainset, batch_size=100, shuffle=True, num_workers=1 )\n",
    "\n",
    "classes = (0, 1, 2, 3, 4, 5, 6, 7, 8, 9)"
   ]
  },
  {
   "cell_type": "code",
   "execution_count": 41,
   "metadata": {},
   "outputs": [
    {
     "data": {
      "image/png": "[encoded data removed]",
      "text/plain": [
       "<matplotlib.figure.Figure at 0x7fdc6f181cf8>"
      ]
     },
     "metadata": {},
     "output_type": "display_data"
    },
    {
     "name": "stdout",
     "output_type": "stream",
     "text": [
      "    8     8     8     9     9     4     0     3\n"
     ]
    }
   ],
   "source": [
    "%matplotlib inline\n",
    "import matplotlib.pyplot as plt\n",
    "import numpy as np\n",
    "\n",
    "\n",
    "def imshow(img):\n",
    "    \n",
    "    img = img/2 + 0.5 # unnormalize\n",
    "    npimg = img.numpy()\n",
    "#     Permute the axes \n",
    "    plt.imshow(np.transpose(npimg, (1, 2, 0)))\n",
    "    plt.show()\n",
    "    \n",
    "dataiter = iter(trainloader)\n",
    "images, labels = dataiter.next()\n",
    "images, labels = images[0:8], labels[0:8]\n",
    "imshow(torchvision.utils.make_grid(images))\n",
    "print(\" \".join(\"%5s\" % classes[labels[j]] for j in range(len(labels))))"
   ]
  },
  {
   "cell_type": "code",
   "execution_count": null,
   "metadata": {
    "collapsed": true
   },
   "outputs": [],
   "source": []
  }
 ],
 "metadata": {
  "kernelspec": {
   "display_name": "Python (tfgpu)",
   "language": "python",
   "name": "tfgpu"
  },
  "language_info": {
   "codemirror_mode": {
    "name": "ipython",
    "version": 3
   },
   "file_extension": ".py",
   "mimetype": "text/x-python",
   "name": "python",
   "nbconvert_exporter": "python",
   "pygments_lexer": "ipython3",
   "version": "3.6.1"
  }
 },
 "nbformat": 4,
 "nbformat_minor": 2
}
