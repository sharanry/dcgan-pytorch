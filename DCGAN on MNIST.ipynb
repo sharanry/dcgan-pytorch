{
 "cells": [
  {
   "cell_type": "code",
   "execution_count": 1,
   "metadata": {
    "collapsed": true
   },
   "outputs": [],
   "source": [
    "%matplotlib inline\n",
    "import matplotlib.pyplot as plt\n",
    "import numpy as np\n",
    "import seaborn as sns\n",
    "\n",
    "from torchvision import datasets, transforms\n",
    "import torchvision\n",
    "\n",
    "import torch.nn as nn\n",
    "import torch.nn.functional as F\n",
    "import torch.optim as optim\n",
    "from torch.autograd import Variable\n",
    "import torch.cuda as cuda\n",
    "import torch"
   ]
  },
  {
   "cell_type": "code",
   "execution_count": 2,
   "metadata": {
    "collapsed": true
   },
   "outputs": [],
   "source": [
    "use_gpu = cuda.is_available()"
   ]
  },
  {
   "cell_type": "markdown",
   "metadata": {},
   "source": [
    "# Learning to generate MNIST digits using a De-Convolutional Generator Discriminator model"
   ]
  },
  {
   "cell_type": "code",
   "execution_count": 3,
   "metadata": {
    "collapsed": true
   },
   "outputs": [],
   "source": [
    "class Generator(nn.Module):\n",
    "    def __init__(self, n_channels=100, reuse=False ):\n",
    "        super(Generator, self).__init__()\n",
    "        self.main = nn.Sequential(\n",
    "            #1st hidden layer\n",
    "            nn.ConvTranspose2d(in_channels=n_channels, #\"Deconvolutional\" layer \n",
    "                               out_channels=1024,\n",
    "                               kernel_size=4,\n",
    "                               stride=1,\n",
    "                               padding=0,\n",
    "                               bias=False),\n",
    "            nn.BatchNorm2d(1024, affine=True),\n",
    "            nn.LeakyReLU(negative_slope=0.2),\n",
    "            \n",
    "            #2nd hidden layer\n",
    "            nn.ConvTranspose2d(in_channels=1024,\n",
    "                               out_channels=512,\n",
    "                               kernel_size=4,\n",
    "                               stride=1,\n",
    "                               padding=2,\n",
    "                               bias=False),\n",
    "            nn.BatchNorm2d(512, affine=True),\n",
    "            nn.LeakyReLU(negative_slope=0.2),\n",
    "            \n",
    "            #3rd hidden layer\n",
    "            nn.ConvTranspose2d(in_channels=512,\n",
    "                               out_channels=256,\n",
    "                               kernel_size=4,\n",
    "                               stride=2,\n",
    "                               padding=0,\n",
    "                               bias=False),\n",
    "            nn.BatchNorm2d(256, affine=True),\n",
    "            nn.LeakyReLU(negative_slope=0.2),\n",
    "            \n",
    "            #4th hidden layer\n",
    "            nn.ConvTranspose2d(in_channels=256,\n",
    "                               out_channels=128,\n",
    "                               kernel_size=4,\n",
    "                               stride=2,\n",
    "                               padding=2,\n",
    "                               bias=False),\n",
    "            nn.BatchNorm2d(128, affine=True),\n",
    "            nn.LeakyReLU(negative_slope=0.2),\n",
    "            \n",
    "            # output layer\n",
    "            nn.ConvTranspose2d(in_channels=128,\n",
    "                               out_channels=1,\n",
    "                               kernel_size=4,\n",
    "                               stride=2,\n",
    "                               padding=1,\n",
    "                               bias=False),\n",
    "            nn.Tanh()\n",
    "        )\n",
    "    def forward(self, x):\n",
    "        output = self.main(x)\n",
    "        return output"
   ]
  },
  {
   "cell_type": "code",
   "execution_count": 4,
   "metadata": {
    "collapsed": true
   },
   "outputs": [],
   "source": [
    "class Discriminator(nn.Module):\n",
    "    def __init__(self, reuse=False, n_channels=1):\n",
    "        super(Discriminator, self).__init__()\n",
    "        self.main = nn.Sequential(\n",
    "            #1st hidden layer\n",
    "            nn.Conv2d(in_channels=n_channels,\n",
    "                      out_channels=128,\n",
    "                      kernel_size=4,\n",
    "                      stride=2,\n",
    "                      padding=1,\n",
    "                      bias=False),\n",
    "            nn.LeakyReLU(negative_slope=0.2),\n",
    "            \n",
    "            #2nd hidden layer\n",
    "            nn.Conv2d(in_channels=128,\n",
    "                      out_channels=256,\n",
    "                      kernel_size=4,\n",
    "                      stride=2,\n",
    "                      padding=2,\n",
    "                      bias=False),\n",
    "            nn.BatchNorm2d(256),\n",
    "            nn.LeakyReLU(negative_slope=0.2),\n",
    "            \n",
    "            #3rd hidden layer\n",
    "            nn.Conv2d(in_channels=256,\n",
    "                      out_channels=512,\n",
    "                      kernel_size=4,\n",
    "                      stride=2,\n",
    "                      padding=0,\n",
    "                      bias=False),\n",
    "            nn.BatchNorm2d(512),\n",
    "            nn.LeakyReLU(negative_slope=0.2),\n",
    "            \n",
    "            #4th hidden layer\n",
    "            nn.Conv2d(in_channels=512,\n",
    "                      out_channels=1024,\n",
    "                      kernel_size=4,\n",
    "                      stride=2,\n",
    "                      padding=2,\n",
    "                      bias=False),\n",
    "            nn.BatchNorm2d(1024),\n",
    "            nn.LeakyReLU(negative_slope=0.2),\n",
    "            \n",
    "            #output layer\n",
    "            nn.Conv2d(in_channels=1024,\n",
    "                      out_channels=1,\n",
    "                      kernel_size=4,\n",
    "                      stride=1,\n",
    "                      padding=1,\n",
    "                      bias=False),\n",
    "            nn.Sigmoid()\n",
    "            \n",
    "        )\n",
    "    def forward(self, y):\n",
    "        output = self.main(y)\n",
    "        return output\n",
    "        "
   ]
  },
  {
   "cell_type": "code",
   "execution_count": 108,
   "metadata": {},
   "outputs": [],
   "source": [
    "# define transform\n",
    "transform = transforms.Compose([\n",
    "    transforms.ToTensor(),\n",
    "    transforms.Normalize((0.5, 0.5, 0.5), (0.5, 0.5, 0.5))\n",
    "])\n",
    "\n",
    "trainset = torchvision.datasets.MNIST(root='./data', train=True, download=True, transform=transform, )\n",
    "trainloader = torch.utils.data.DataLoader(trainset, batch_size=50, shuffle=True, num_workers=1 )\n",
    "# train_data_iter = iter(torch.Tensor(trainloader))\n",
    "testset = torchvision.datasets.MNIST(root='./data', train=False, download=True, transform=transform)\n",
    "testloader = torch.utils.data.DataLoader(trainset, batch_size=50, shuffle=True, num_workers=1 )\n",
    "\n",
    "classes = (0, 1, 2, 3, 4, 5, 6, 7, 8, 9)"
   ]
  },
  {
   "cell_type": "code",
   "execution_count": 109,
   "metadata": {},
   "outputs": [
    {
     "name": "stdout",
     "output_type": "stream",
     "text": [
      "torch.Size([50, 1, 28, 28])\n"
     ]
    },
    {
     "data": {
      "image/png": "[encoded data removed]",
      "text/plain": [
       "<matplotlib.figure.Figure at 0x7fdc6b983748>"
      ]
     },
     "metadata": {},
     "output_type": "display_data"
    },
    {
     "name": "stdout",
     "output_type": "stream",
     "text": [
      "    4     0     1     8     9     7     4     0\n"
     ]
    }
   ],
   "source": [
    "def imshow(img):\n",
    "    \n",
    "    img = img/2 + 0.5 # unnormalize\n",
    "    npimg = img.numpy()\n",
    "#     Permute the axes \n",
    "    plt.imshow(np.transpose(npimg, (1, 2, 0)))\n",
    "    plt.show()\n",
    "    \n",
    "dataiter = iter(trainloader)\n",
    "images, labels = dataiter.next()\n",
    "print(images.size())\n",
    "images, labels = images[0:8], labels[0:8]\n",
    "\n",
    "imshow(torchvision.utils.make_grid(images))\n",
    "print(\" \".join(\"%5s\" % classes[labels[j]] for j in range(len(labels))))"
   ]
  },
  {
   "cell_type": "code",
   "execution_count": 110,
   "metadata": {},
   "outputs": [
    {
     "name": "stdout",
     "output_type": "stream",
     "text": [
      "torch.Size([50, 100, 1, 1])\n",
      "\n",
      " 0.6405  0.8341  0.5623  ...   0.1692  0.1899  0.9309\n",
      " 0.4764  0.3785  0.3306  ...   0.3167  0.4202  0.0913\n",
      " 0.3392  0.1642  0.8319  ...   0.3107  0.7987  0.8282\n",
      "          ...             ⋱             ...          \n",
      " 0.9208  0.0099  0.0830  ...   0.3183  0.1427  0.2267\n",
      " 0.8779  0.0026  0.9324  ...   0.9291  0.2181  0.8984\n",
      " 0.7666  0.9586  0.9931  ...   0.2405  0.1927  0.2519\n",
      "[torch.FloatTensor of size 50x100]\n",
      "\n"
     ]
    }
   ],
   "source": [
    "def g_sampler(batch=50):\n",
    "    return torch.rand([batch, 100, 1, 1])\n",
    "print(g_sampler().size())\n",
    "print(g_sampler().squeeze())"
   ]
  },
  {
   "cell_type": "code",
   "execution_count": 141,
   "metadata": {},
   "outputs": [],
   "source": [
    "G = Generator()\n",
    "D = Discriminator()\n",
    "criterion = nn.BCELoss()\n",
    "d_optimizer = optim.Adam(D.parameters())\n",
    "g_optimizer = optim.Adam(G.parameters())"
   ]
  },
  {
   "cell_type": "code",
   "execution_count": 164,
   "metadata": {},
   "outputs": [],
   "source": [
    "def training(G, D, criterion, d_optimizer, g_optimizer, dataiter, g_sampler, num_epochs=1, epoch_int=1, d_steps=1, g_steps=1, ):\n",
    "    for epoch in range(num_epochs):\n",
    "        for d_i in range(d_steps):\n",
    "            D.zero_grad()\n",
    "            \n",
    "            #on real\n",
    "            d_real_images, _  = dataiter.next()\n",
    "            d_real_images = Variable(d_real_images)\n",
    "            d_real_decision = D(d_real_images)\n",
    "            print(d_real_decision.squeeze().size())\n",
    "            d_real_error = criterion(d_real_decision.squeeze(), Variable(torch.ones([50])))\n",
    "            d_real_error.backward()\n",
    "            \n",
    "            # on fake\n",
    "            d_gen_input = Variable(g_sampler())\n",
    "            d_fake_images = G(d_gen_input).detach()\n",
    "            d_fake_decision = D(d_fake_images)\n",
    "            d_fake_error = criterion(d_fake_decision.squeeze(), Variable((torch.zeros([50]))))\n",
    "            d_fake_error.backward()\n",
    "            \n",
    "            d_optimizer.step()\n",
    "        for g_i in range(g_steps):\n",
    "            G.zero_grad()\n",
    "            \n",
    "            gen_input = Variable(g_sampler())\n",
    "            g_fake_images = G(gen_input)\n",
    "            fake_decsion = D(g_fake_images)\n",
    "            g_error = criterion(fake_decsion.squeeze(), Variable((torch.ones([50]))))\n",
    "            g_error.backward()\n",
    "            g_optimizer.step()\n",
    "        \n",
    "        if epoch % epoch_int == 0:\n",
    "            print(\"%3s / %3s epochs\"% (epoch, num_epochs))\n",
    "#             print(g_fake_images.data.size())\n",
    "            imshow(torchvision.utils.make_grid(g_fake_images.data[0:3]))\n",
    "    \n",
    "    print(\"Training Complete!\")"
   ]
  },
  {
   "cell_type": "code",
   "execution_count": 165,
   "metadata": {},
   "outputs": [
    {
     "name": "stdout",
     "output_type": "stream",
     "text": [
      "torch.Size([50])\n",
      "  0 /   1 epochs\n"
     ]
    },
    {
     "data": {
      "image/png": "[encoded data removed]",
      "text/plain": [
       "<matplotlib.figure.Figure at 0x7fdc6b0b0eb8>"
      ]
     },
     "metadata": {},
     "output_type": "display_data"
    },
    {
     "name": "stdout",
     "output_type": "stream",
     "text": [
      "Training Complete!\n"
     ]
    }
   ],
   "source": [
    "training(G=G,\n",
    "         D=D,\n",
    "         criterion=criterion,\n",
    "         d_optimizer=d_optimizer,\n",
    "         g_optimizer=g_optimizer,\n",
    "         g_sampler=g_sampler,\n",
    "         dataiter=dataiter\n",
    "        )"
   ]
  },
  {
   "cell_type": "code",
   "execution_count": 133,
   "metadata": {},
   "outputs": [
    {
     "data": {
      "text/plain": [
       "torch.Size([50])"
      ]
     },
     "execution_count": 133,
     "metadata": {},
     "output_type": "execute_result"
    }
   ],
   "source": [
    "torch.LongTensor(np.ones([50])).size()"
   ]
  },
  {
   "cell_type": "code",
   "execution_count": null,
   "metadata": {
    "collapsed": true
   },
   "outputs": [],
   "source": []
  }
 ],
 "metadata": {
  "kernelspec": {
   "display_name": "Python (tfgpu)",
   "language": "python",
   "name": "tfgpu"
  },
  "language_info": {
   "codemirror_mode": {
    "name": "ipython",
    "version": 3
   },
   "file_extension": ".py",
   "mimetype": "text/x-python",
   "name": "python",
   "nbconvert_exporter": "python",
   "pygments_lexer": "ipython3",
   "version": "3.6.1"
  }
 },
 "nbformat": 4,
 "nbformat_minor": 2
}
